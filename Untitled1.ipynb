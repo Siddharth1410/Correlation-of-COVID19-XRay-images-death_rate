{
 "cells": [
  {
   "cell_type": "code",
   "execution_count": 1,
   "metadata": {},
   "outputs": [
    {
     "name": "stderr",
     "output_type": "stream",
     "text": [
      "Using TensorFlow backend.\n"
     ]
    }
   ],
   "source": [
    "import numpy as np\n",
    "import pandas as pd\n",
    "import seaborn as sns\n",
    "import ast, json\n",
    "from datetime import datetime\n",
    "import matplotlib.pyplot as plt\n",
    "from textblob import TextBlob\n",
    "import seaborn as sns\n",
    "from PIL import Image\n",
    "from sklearn.model_selection import train_test_split\n",
    "from sklearn.metrics import confusion_matrix\n",
    "from keras.utils.np_utils import to_categorical\n",
    "from keras.models import Sequential\n",
    "from keras.layers import Dense, Dropout, Flatten, Conv2D, MaxPool2D\n",
    "from keras.optimizers import RMSprop\n",
    "from keras_preprocessing.image import ImageDataGenerator\n",
    "from keras.callbacks import ReduceLROnPlateau\n",
    "import cv2\n",
    "import glob\n",
    "from PIL import Image"
   ]
  },
  {
   "cell_type": "code",
   "execution_count": 2,
   "metadata": {},
   "outputs": [],
   "source": [
    "def get_images(metadata,basepath):\n",
    "    train_datagen = ImageDataGenerator(rescale=1./255,\n",
    "    shear_range=0.2,\n",
    "    zoom_range=0.2,\n",
    "    horizontal_flip=True,\n",
    "    validation_split=0.1) # set validation split\n",
    "\n",
    "    train_generator = train_datagen.flow_from_dataframe(dataframe=metadata,\n",
    "    directory=basepath,\n",
    "    x_col=\"filename\",\n",
    "    y_col=\"survival\",\n",
    "    target_size=(64, 64),\n",
    "    batch_size=50,\n",
    "    has_ext=True,\n",
    "    class_mode='categorical',\n",
    "    subset='training') # set as training data\n",
    "\n",
    "    validation_generator = train_datagen.flow_from_dataframe(dataframe=metadata,\n",
    "    directory=basepath,\n",
    "    x_col=\"filename\",\n",
    "    y_col='survival',\n",
    "    target_size=(64, 64),\n",
    "    batch_size=50,\n",
    "    class_mode='categorical',\n",
    "    subset='validation') # set as training data\n",
    "    return train_generator,validation_generator"
   ]
  },
  {
   "cell_type": "code",
   "execution_count": 4,
   "metadata": {},
   "outputs": [],
   "source": [
    "def get_metadata(path_to_csv):\n",
    "    pass\n",
    "    "
   ]
  },
  {
   "cell_type": "code",
   "execution_count": 5,
   "metadata": {},
   "outputs": [],
   "source": [
    "metadata=pd.read_csv(\"548681_1157383_bundle_archive/metadata.csv\")"
   ]
  },
  {
   "cell_type": "code",
   "execution_count": 13,
   "metadata": {},
   "outputs": [],
   "source": [
    "labeled_df=metadata[metadata['survival'].notnull()]\n",
    "unlabeled_df=metadata[metadata['survival'].isnull()]"
   ]
  },
  {
   "cell_type": "code",
   "execution_count": 43,
   "metadata": {},
   "outputs": [],
   "source": [
    "def get_validation_image(metadata,basepath):\n",
    "    val_datagen=ImageDataGenerator(rescale=1./255.)\n",
    "    val_generator=val_datagen.flow_from_dataframe(\n",
    "    dataframe=metadata,\n",
    "    directory=basepath,\n",
    "    x_col='filename',\n",
    "    y_col=None,\n",
    "    has_ext=True,\n",
    "    batch_size=50,\n",
    "    seed=42,\n",
    "    shuffle=False,\n",
    "    class_mode=None,\n",
    "    target_size=(64,64))\n",
    "    return val_generator"
   ]
  },
  {
   "cell_type": "code",
   "execution_count": 20,
   "metadata": {},
   "outputs": [
    {
     "name": "stdout",
     "output_type": "stream",
     "text": [
      "Found 93 validated image filenames belonging to 2 classes.\n",
      "Found 23 validated image filenames belonging to 2 classes.\n"
     ]
    }
   ],
   "source": [
    "basepath=\"C:/Users/dhrupal/covid_hack/548681_1157383_bundle_archive/images/\"\n",
    "train_images,test_images=get_images(labeled_df,basepath)"
   ]
  },
  {
   "cell_type": "code",
   "execution_count": 14,
   "metadata": {},
   "outputs": [],
   "source": [
    "def create_model():\n",
    "    convo=Sequential()\n",
    "    convo.add(Conv2D(32,(3,3),activation=\"relu\",input_shape=(64,64,3)))\n",
    "    convo.add(MaxPool2D(pool_size=(2,2)))\n",
    "    convo.add(Conv2D(32,(3,3),activation=\"relu\"))\n",
    "    convo.add(MaxPool2D(pool_size = (2,2)))\n",
    "    convo.add(Flatten())\n",
    "    convo.add(Dense(activation = 'relu', units = 128))\n",
    "    convo.add(Dense(2,activation = 'softmax'))\n",
    "    convo.compile(optimizer = 'adam', loss = 'binary_crossentropy', metrics = ['accuracy'])\n",
    "    return convo"
   ]
  },
  {
   "cell_type": "code",
   "execution_count": 21,
   "metadata": {},
   "outputs": [
    {
     "name": "stdout",
     "output_type": "stream",
     "text": [
      "Epoch 1/5\n",
      "WARNING:tensorflow:From C:\\Users\\dhrupal\\Anaconda3\\lib\\site-packages\\keras\\backend\\tensorflow_backend.py:174: The name tf.get_default_session is deprecated. Please use tf.compat.v1.get_default_session instead.\n",
      "\n",
      "WARNING:tensorflow:From C:\\Users\\dhrupal\\Anaconda3\\lib\\site-packages\\keras\\backend\\tensorflow_backend.py:181: The name tf.ConfigProto is deprecated. Please use tf.compat.v1.ConfigProto instead.\n",
      "\n",
      "WARNING:tensorflow:From C:\\Users\\dhrupal\\Anaconda3\\lib\\site-packages\\keras\\backend\\tensorflow_backend.py:190: The name tf.global_variables is deprecated. Please use tf.compat.v1.global_variables instead.\n",
      "\n",
      "WARNING:tensorflow:From C:\\Users\\dhrupal\\Anaconda3\\lib\\site-packages\\keras\\backend\\tensorflow_backend.py:199: The name tf.is_variable_initialized is deprecated. Please use tf.compat.v1.is_variable_initialized instead.\n",
      "\n",
      "WARNING:tensorflow:From C:\\Users\\dhrupal\\Anaconda3\\lib\\site-packages\\keras\\backend\\tensorflow_backend.py:206: The name tf.variables_initializer is deprecated. Please use tf.compat.v1.variables_initializer instead.\n",
      "\n",
      "34/34 [==============================] - 173s 5s/step - loss: 0.4717 - acc: 0.7837 - val_loss: 0.3961 - val_acc: 0.8496\n",
      "Epoch 2/5\n",
      "34/34 [==============================] - 137s 4s/step - loss: 0.3177 - acc: 0.8723 - val_loss: 0.3640 - val_acc: 0.8165\n",
      "Epoch 3/5\n",
      "34/34 [==============================] - 139s 4s/step - loss: 0.2106 - acc: 0.9148 - val_loss: 0.3627 - val_acc: 0.8539\n",
      "Epoch 4/5\n",
      "34/34 [==============================] - 139s 4s/step - loss: 0.1292 - acc: 0.9511 - val_loss: 0.3483 - val_acc: 0.8557\n",
      "Epoch 5/5\n",
      "34/34 [==============================] - 137s 4s/step - loss: 0.0779 - acc: 0.9796 - val_loss: 0.2554 - val_acc: 0.8748\n"
     ]
    },
    {
     "data": {
      "text/plain": [
       "<keras.callbacks.History at 0x1b1bf7a7e48>"
      ]
     },
     "execution_count": 21,
     "metadata": {},
     "output_type": "execute_result"
    }
   ],
   "source": [
    "model_cnn=create_model()\n",
    "model_cnn.fit_generator(generator=train_images,steps_per_epoch= 34,epochs=5,validation_data=test_images,validation_steps=50)"
   ]
  },
  {
   "cell_type": "code",
   "execution_count": 44,
   "metadata": {},
   "outputs": [
    {
     "name": "stdout",
     "output_type": "stream",
     "text": [
      "Found 235 validated image filenames.\n"
     ]
    }
   ],
   "source": [
    "val_images=get_validation_image(unlabeled_df,basepath)"
   ]
  },
  {
   "cell_type": "code",
   "execution_count": 46,
   "metadata": {},
   "outputs": [],
   "source": [
    "prob_scores_classes=model_cnn.predict_generator(val_images,steps=235/50)"
   ]
  },
  {
   "cell_type": "code",
   "execution_count": null,
   "metadata": {},
   "outputs": [],
   "source": []
  },
  {
   "cell_type": "code",
   "execution_count": 61,
   "metadata": {},
   "outputs": [],
   "source": [
    "predicted_classes=list(pd.DataFrame(prob_scores_classes).idxmax(axis=1))\n",
    "survival_rate=sum(predicted_classes)/len(predicted_classes)\n",
    "death_rate=1-survival_rate"
   ]
  },
  {
   "cell_type": "code",
   "execution_count": 62,
   "metadata": {},
   "outputs": [
    {
     "data": {
      "text/plain": [
       "0.21276595744680848"
      ]
     },
     "execution_count": 62,
     "metadata": {},
     "output_type": "execute_result"
    }
   ],
   "source": [
    "death_rate"
   ]
  },
  {
   "cell_type": "code",
   "execution_count": 63,
   "metadata": {},
   "outputs": [
    {
     "data": {
      "text/plain": [
       "0.7872340425531915"
      ]
     },
     "execution_count": 63,
     "metadata": {},
     "output_type": "execute_result"
    }
   ],
   "source": [
    "survival_rate"
   ]
  },
  {
   "cell_type": "code",
   "execution_count": null,
   "metadata": {},
   "outputs": [],
   "source": []
  },
  {
   "cell_type": "code",
   "execution_count": null,
   "metadata": {},
   "outputs": [],
   "source": []
  },
  {
   "cell_type": "code",
   "execution_count": null,
   "metadata": {},
   "outputs": [],
   "source": []
  },
  {
   "cell_type": "code",
   "execution_count": 78,
   "metadata": {},
   "outputs": [],
   "source": [
    "'''\n",
    "Testing for more COVID19 , Normal Images, and Pneumonia.\n",
    "'''\n",
    "\n",
    "'''\n",
    "COVID-19\n",
    "'''\n",
    "list_of_covid_files=[]\n",
    "for i in range(1,220):\n",
    "    if i<134:\n",
    "        list_of_covid_files.append(\"COVID-19 ({}).png\".format(i))\n",
    "    else:\n",
    "        list_of_covid_files.append(\"COVID-19({}).png\".format(i))\n"
   ]
  },
  {
   "cell_type": "code",
   "execution_count": 85,
   "metadata": {},
   "outputs": [
    {
     "data": {
      "text/plain": [
       "['COVID-19 (1).png',\n",
       " 'COVID-19 (2).png',\n",
       " 'COVID-19 (3).png',\n",
       " 'COVID-19 (4).png',\n",
       " 'COVID-19 (5).png',\n",
       " 'COVID-19 (6).png',\n",
       " 'COVID-19 (7).png',\n",
       " 'COVID-19 (8).png',\n",
       " 'COVID-19 (9).png',\n",
       " 'COVID-19 (10).png',\n",
       " 'COVID-19 (11).png',\n",
       " 'COVID-19 (12).png',\n",
       " 'COVID-19 (13).png',\n",
       " 'COVID-19 (14).png',\n",
       " 'COVID-19 (15).png',\n",
       " 'COVID-19 (16).png',\n",
       " 'COVID-19 (17).png',\n",
       " 'COVID-19 (18).png',\n",
       " 'COVID-19 (19).png',\n",
       " 'COVID-19 (20).png',\n",
       " 'COVID-19 (21).png',\n",
       " 'COVID-19 (22).png',\n",
       " 'COVID-19 (23).png',\n",
       " 'COVID-19 (24).png',\n",
       " 'COVID-19 (25).png',\n",
       " 'COVID-19 (26).png',\n",
       " 'COVID-19 (27).png',\n",
       " 'COVID-19 (28).png',\n",
       " 'COVID-19 (29).png',\n",
       " 'COVID-19 (30).png',\n",
       " 'COVID-19 (31).png',\n",
       " 'COVID-19 (32).png',\n",
       " 'COVID-19 (33).png',\n",
       " 'COVID-19 (34).png',\n",
       " 'COVID-19 (35).png',\n",
       " 'COVID-19 (36).png',\n",
       " 'COVID-19 (37).png',\n",
       " 'COVID-19 (38).png',\n",
       " 'COVID-19 (39).png',\n",
       " 'COVID-19 (40).png',\n",
       " 'COVID-19 (41).png',\n",
       " 'COVID-19 (42).png',\n",
       " 'COVID-19 (43).png',\n",
       " 'COVID-19 (44).png',\n",
       " 'COVID-19 (45).png',\n",
       " 'COVID-19 (46).png',\n",
       " 'COVID-19 (47).png',\n",
       " 'COVID-19 (48).png',\n",
       " 'COVID-19 (49).png',\n",
       " 'COVID-19 (50).png',\n",
       " 'COVID-19 (51).png',\n",
       " 'COVID-19 (52).png',\n",
       " 'COVID-19 (53).png',\n",
       " 'COVID-19 (54).png',\n",
       " 'COVID-19 (55).png',\n",
       " 'COVID-19 (56).png',\n",
       " 'COVID-19 (57).png',\n",
       " 'COVID-19 (58).png',\n",
       " 'COVID-19 (59).png',\n",
       " 'COVID-19 (60).png',\n",
       " 'COVID-19 (61).png',\n",
       " 'COVID-19 (62).png',\n",
       " 'COVID-19 (63).png',\n",
       " 'COVID-19 (64).png',\n",
       " 'COVID-19 (65).png',\n",
       " 'COVID-19 (66).png',\n",
       " 'COVID-19 (67).png',\n",
       " 'COVID-19 (68).png',\n",
       " 'COVID-19 (69).png',\n",
       " 'COVID-19 (70).png',\n",
       " 'COVID-19 (71).png',\n",
       " 'COVID-19 (72).png',\n",
       " 'COVID-19 (73).png',\n",
       " 'COVID-19 (74).png',\n",
       " 'COVID-19 (75).png',\n",
       " 'COVID-19 (76).png',\n",
       " 'COVID-19 (77).png',\n",
       " 'COVID-19 (78).png',\n",
       " 'COVID-19 (79).png',\n",
       " 'COVID-19 (80).png',\n",
       " 'COVID-19 (81).png',\n",
       " 'COVID-19 (82).png',\n",
       " 'COVID-19 (83).png',\n",
       " 'COVID-19 (84).png',\n",
       " 'COVID-19 (85).png',\n",
       " 'COVID-19 (86).png',\n",
       " 'COVID-19 (87).png',\n",
       " 'COVID-19 (88).png',\n",
       " 'COVID-19 (89).png',\n",
       " 'COVID-19 (90).png',\n",
       " 'COVID-19 (91).png',\n",
       " 'COVID-19 (92).png',\n",
       " 'COVID-19 (93).png',\n",
       " 'COVID-19 (94).png',\n",
       " 'COVID-19 (95).png',\n",
       " 'COVID-19 (96).png',\n",
       " 'COVID-19 (97).png',\n",
       " 'COVID-19 (98).png',\n",
       " 'COVID-19 (99).png',\n",
       " 'COVID-19 (100).png',\n",
       " 'COVID-19 (101).png',\n",
       " 'COVID-19 (102).png',\n",
       " 'COVID-19 (103).png',\n",
       " 'COVID-19 (104).png',\n",
       " 'COVID-19 (105).png',\n",
       " 'COVID-19 (106).png',\n",
       " 'COVID-19 (107).png',\n",
       " 'COVID-19 (108).png',\n",
       " 'COVID-19 (109).png',\n",
       " 'COVID-19 (110).png',\n",
       " 'COVID-19 (111).png',\n",
       " 'COVID-19 (112).png',\n",
       " 'COVID-19 (113).png',\n",
       " 'COVID-19 (114).png',\n",
       " 'COVID-19 (115).png',\n",
       " 'COVID-19 (116).png',\n",
       " 'COVID-19 (117).png',\n",
       " 'COVID-19 (118).png',\n",
       " 'COVID-19 (119).png',\n",
       " 'COVID-19 (120).png',\n",
       " 'COVID-19 (121).png',\n",
       " 'COVID-19 (122).png',\n",
       " 'COVID-19 (123).png',\n",
       " 'COVID-19 (124).png',\n",
       " 'COVID-19 (125).png',\n",
       " 'COVID-19 (126).png',\n",
       " 'COVID-19 (127).png',\n",
       " 'COVID-19 (128).png',\n",
       " 'COVID-19 (129).png',\n",
       " 'COVID-19 (130).png',\n",
       " 'COVID-19 (131).png',\n",
       " 'COVID-19 (132).png',\n",
       " 'COVID-19 (133).png',\n",
       " 'COVID-19(134).png',\n",
       " 'COVID-19(135).png',\n",
       " 'COVID-19(136).png',\n",
       " 'COVID-19(137).png',\n",
       " 'COVID-19(138).png',\n",
       " 'COVID-19(139).png',\n",
       " 'COVID-19(140).png',\n",
       " 'COVID-19(141).png',\n",
       " 'COVID-19(142).png',\n",
       " 'COVID-19(143).png',\n",
       " 'COVID-19(144).png',\n",
       " 'COVID-19(145).png',\n",
       " 'COVID-19(146).png',\n",
       " 'COVID-19(147).png',\n",
       " 'COVID-19(148).png',\n",
       " 'COVID-19(149).png',\n",
       " 'COVID-19(150).png',\n",
       " 'COVID-19(151).png',\n",
       " 'COVID-19(152).png',\n",
       " 'COVID-19(153).png',\n",
       " 'COVID-19(154).png',\n",
       " 'COVID-19(155).png',\n",
       " 'COVID-19(156).png',\n",
       " 'COVID-19(157).png',\n",
       " 'COVID-19(158).png',\n",
       " 'COVID-19(159).png',\n",
       " 'COVID-19(160).png',\n",
       " 'COVID-19(161).png',\n",
       " 'COVID-19(162).png',\n",
       " 'COVID-19(163).png',\n",
       " 'COVID-19(164).png',\n",
       " 'COVID-19(165).png',\n",
       " 'COVID-19(166).png',\n",
       " 'COVID-19(167).png',\n",
       " 'COVID-19(168).png',\n",
       " 'COVID-19(169).png',\n",
       " 'COVID-19(170).png',\n",
       " 'COVID-19(171).png',\n",
       " 'COVID-19(172).png',\n",
       " 'COVID-19(173).png',\n",
       " 'COVID-19(174).png',\n",
       " 'COVID-19(175).png',\n",
       " 'COVID-19(176).png',\n",
       " 'COVID-19(177).png',\n",
       " 'COVID-19(178).png',\n",
       " 'COVID-19(179).png',\n",
       " 'COVID-19(180).png',\n",
       " 'COVID-19(181).png',\n",
       " 'COVID-19(182).png',\n",
       " 'COVID-19(183).png',\n",
       " 'COVID-19(184).png',\n",
       " 'COVID-19(185).png',\n",
       " 'COVID-19(186).png',\n",
       " 'COVID-19(187).png',\n",
       " 'COVID-19(188).png',\n",
       " 'COVID-19(189).png',\n",
       " 'COVID-19(190).png',\n",
       " 'COVID-19(191).png',\n",
       " 'COVID-19(192).png',\n",
       " 'COVID-19(193).png',\n",
       " 'COVID-19(194).png',\n",
       " 'COVID-19(195).png',\n",
       " 'COVID-19(196).png',\n",
       " 'COVID-19(197).png',\n",
       " 'COVID-19(198).png',\n",
       " 'COVID-19(199).png',\n",
       " 'COVID-19(200).png',\n",
       " 'COVID-19(201).png',\n",
       " 'COVID-19(202).png',\n",
       " 'COVID-19(203).png',\n",
       " 'COVID-19(204).png',\n",
       " 'COVID-19(205).png',\n",
       " 'COVID-19(206).png',\n",
       " 'COVID-19(207).png',\n",
       " 'COVID-19(208).png',\n",
       " 'COVID-19(209).png',\n",
       " 'COVID-19(210).png',\n",
       " 'COVID-19(211).png',\n",
       " 'COVID-19(212).png',\n",
       " 'COVID-19(213).png',\n",
       " 'COVID-19(214).png',\n",
       " 'COVID-19(215).png',\n",
       " 'COVID-19(216).png',\n",
       " 'COVID-19(217).png',\n",
       " 'COVID-19(218).png',\n",
       " 'COVID-19(219).png']"
      ]
     },
     "execution_count": 85,
     "metadata": {},
     "output_type": "execute_result"
    }
   ],
   "source": [
    "covid_filenames_df=pd.DataFrame(list_of_covid_files,columns=['filename'])\n",
    "basepath_dataset2=\"C:/Users/dhrupal/covid_hack/576013_1042828_bundle_archive/COVID-19 Radiography Database/\"\n",
    "covid_path=basepath_dataset2+'COVID-19/'\n",
    "list(covid_filenames_df['filename'])"
   ]
  },
  {
   "cell_type": "code",
   "execution_count": 86,
   "metadata": {},
   "outputs": [
    {
     "name": "stdout",
     "output_type": "stream",
     "text": [
      "Found 219 validated image filenames.\n"
     ]
    }
   ],
   "source": [
    "covid_out_of_set_validation_img=get_validation_image(covid_filenames_df,covid_path)\n",
    "prob_covid_dataset2=model_cnn.predict_generator(covid_out_of_set_validation_img,steps=219/50)"
   ]
  },
  {
   "cell_type": "code",
   "execution_count": 87,
   "metadata": {},
   "outputs": [],
   "source": [
    "predicted_classes_covid_dataset2=list(pd.DataFrame(prob_covid_dataset2).idxmax(axis=1))\n",
    "survival_rate_covid_dataset2=sum(predicted_classes_covid_dataset2)/len(predicted_classes_covid_dataset2)\n",
    "death_rate_covid_dataset2=1-survival_rate_covid_dataset2"
   ]
  },
  {
   "cell_type": "code",
   "execution_count": 88,
   "metadata": {},
   "outputs": [
    {
     "name": "stdout",
     "output_type": "stream",
     "text": [
      "0.8127853881278538\n",
      "0.18721461187214616\n"
     ]
    }
   ],
   "source": [
    "print(survival_rate_covid_dataset2)\n",
    "print(death_rate_covid_dataset2)"
   ]
  },
  {
   "cell_type": "code",
   "execution_count": 93,
   "metadata": {},
   "outputs": [],
   "source": [
    "'''\n",
    "NORMAL\n",
    "'''\n",
    "list_of_normal_files=[]\n",
    "for i in range(1,1342):\n",
    "    list_of_normal_files.append(\"NORMAL ({}).png\".format(i))\n",
    "normal_filenames_df=pd.DataFrame(list_of_normal_files,columns=['filename'])\n",
    "normal_path=basepath_dataset2+'NORMAL'"
   ]
  },
  {
   "cell_type": "code",
   "execution_count": 94,
   "metadata": {},
   "outputs": [
    {
     "name": "stdout",
     "output_type": "stream",
     "text": [
      "Found 1341 validated image filenames.\n"
     ]
    }
   ],
   "source": [
    "normal_out_of_set_validation_img=get_validation_image(normal_filenames_df,normal_path)\n",
    "prob_normal_dataset2=model_cnn.predict_generator(normal_out_of_set_validation_img,steps=1341/50)"
   ]
  },
  {
   "cell_type": "code",
   "execution_count": 95,
   "metadata": {},
   "outputs": [],
   "source": [
    "predicted_classes_normal_dataset2=list(pd.DataFrame(prob_normal_dataset2).idxmax(axis=1))"
   ]
  },
  {
   "cell_type": "code",
   "execution_count": 98,
   "metadata": {},
   "outputs": [],
   "source": [
    "survival_rate_normal_dataset2=sum(predicted_classes_normal_dataset2)/len(predicted_classes_normal_dataset2)\n",
    "death_rate_normal_dataset2=1-survival_rate_normal_dataset2"
   ]
  },
  {
   "cell_type": "code",
   "execution_count": 99,
   "metadata": {},
   "outputs": [
    {
     "name": "stdout",
     "output_type": "stream",
     "text": [
      "1.0\n",
      "0.0\n"
     ]
    }
   ],
   "source": [
    "print(survival_rate_normal_dataset2)\n",
    "print(death_rate_normal_dataset2)"
   ]
  },
  {
   "cell_type": "code",
   "execution_count": 105,
   "metadata": {},
   "outputs": [
    {
     "name": "stdout",
     "output_type": "stream",
     "text": [
      "Found 1345 validated image filenames.\n"
     ]
    }
   ],
   "source": [
    "'''\n",
    "Pneumonia\n",
    "'''\n",
    "list_of_pneumonia_files=[]\n",
    "for i in range(1,1346):\n",
    "    list_of_pneumonia_files.append(\"Viral Pneumonia ({}).png\".format(i))\n",
    "pneumonia_filenames_df=pd.DataFrame(list_of_pneumonia_files,columns=['filename'])\n",
    "pneumonia_path=basepath_dataset2+'Viral Pneumonia/'\n",
    "\n",
    "pneumonia_out_of_set_validation_img=get_validation_image(pneumonia_filenames_df,pneumonia_path)\n",
    "prob_pneumonia_dataset2=model_cnn.predict_generator(pneumonia_out_of_set_validation_img,steps=1346/50)"
   ]
  },
  {
   "cell_type": "code",
   "execution_count": 107,
   "metadata": {},
   "outputs": [],
   "source": [
    "predicted_classes_pneumonia_dataset2=list(pd.DataFrame(prob_pneumonia_dataset2).idxmax(axis=1))"
   ]
  },
  {
   "cell_type": "code",
   "execution_count": 108,
   "metadata": {},
   "outputs": [],
   "source": [
    "survival_rate_pneumonia_dataset2=sum(predicted_classes_pneumonia_dataset2)/len(predicted_classes_pneumonia_dataset2)\n",
    "death_rate_pneumonia_dataset2=1-survival_rate_pneumonia_dataset2"
   ]
  },
  {
   "cell_type": "code",
   "execution_count": 109,
   "metadata": {},
   "outputs": [
    {
     "name": "stdout",
     "output_type": "stream",
     "text": [
      "0.9769516728624535\n",
      "0.023048327137546454\n"
     ]
    }
   ],
   "source": [
    "print(survival_rate_pneumonia_dataset2)\n",
    "print(death_rate_pneumonia_dataset2)"
   ]
  },
  {
   "cell_type": "code",
   "execution_count": null,
   "metadata": {},
   "outputs": [],
   "source": []
  }
 ],
 "metadata": {
  "kernelspec": {
   "display_name": "Python 3",
   "language": "python",
   "name": "python3"
  },
  "language_info": {
   "codemirror_mode": {
    "name": "ipython",
    "version": 3
   },
   "file_extension": ".py",
   "mimetype": "text/x-python",
   "name": "python",
   "nbconvert_exporter": "python",
   "pygments_lexer": "ipython3",
   "version": "3.7.4"
  }
 },
 "nbformat": 4,
 "nbformat_minor": 2
}
